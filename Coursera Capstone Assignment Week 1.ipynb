{
    "cells": [
        {
            "metadata": {
                "collapsed": true
            },
            "cell_type": "markdown",
            "source": "<h1>My Jupyter Notebook for Capstone Project</h1>"
        },
        {
            "metadata": {},
            "cell_type": "markdown",
            "source": "<h4>Sanju</h4>"
        },
        {
            "metadata": {},
            "cell_type": "markdown",
            "source": "<i>This Jupyter Notebook is mainly to show how to <b>import pandas as pd</b> and <b>import numpy as np</b> and also <b>print \"Hello Capstone Project Course!\"</b> for submit the Project</i>"
        },
        {
            "metadata": {},
            "cell_type": "markdown",
            "source": "<h2>Introduction to NumPy</h2>\n<b>NumPy</b> is a library written for scientific computing and data analysis. It stands for numerical python.\nThe most basic object in NumPy is the <b>array</b>.\n\n<b>Lets import numpy as np as array code.<b>"
        },
        {
            "metadata": {},
            "cell_type": "code",
            "source": "import numpy as np\nnp1 = np.array([1,2,3,4,5])\nnp1",
            "execution_count": 2,
            "outputs": [
                {
                    "output_type": "execute_result",
                    "execution_count": 2,
                    "data": {
                        "text/plain": "array([1, 2, 3, 4, 5])"
                    },
                    "metadata": {}
                }
            ]
        },
        {
            "metadata": {},
            "cell_type": "markdown",
            "source": "<h3>Introduction to Pandas</h3>\n<b>Pandas</b> is a library built using NumPy specifically for data analysis. You will be using <b>Pandas</b> for data manipulation, visualisations, building machine learning models etc\n\n<b>Lets import pandas as pd</b>"
        },
        {
            "metadata": {},
            "cell_type": "code",
            "source": "import pandas as pd\npd1_dict = {1 : \"name\", 2 : \"Id\"}\npd1_dict",
            "execution_count": 3,
            "outputs": [
                {
                    "output_type": "execute_result",
                    "execution_count": 3,
                    "data": {
                        "text/plain": "{1: 'name', 2: 'Id'}"
                    },
                    "metadata": {}
                }
            ]
        },
        {
            "metadata": {},
            "cell_type": "markdown",
            "source": "<h3>Lets Print \"Hello Capstone Project Course!\"</b> for submit the Project."
        },
        {
            "metadata": {},
            "cell_type": "code",
            "source": "print(\"Hello Capstone Project Course!\")",
            "execution_count": 4,
            "outputs": [
                {
                    "output_type": "stream",
                    "text": "Hello Capstone Project Course!\n",
                    "name": "stdout"
                }
            ]
        },
        {
            "metadata": {},
            "cell_type": "code",
            "source": "",
            "execution_count": null,
            "outputs": []
        }
    ],
    "metadata": {
        "kernelspec": {
            "name": "python3",
            "display_name": "Python 3.6",
            "language": "python"
        },
        "language_info": {
            "name": "python",
            "version": "3.6.9",
            "mimetype": "text/x-python",
            "codemirror_mode": {
                "name": "ipython",
                "version": 3
            },
            "pygments_lexer": "ipython3",
            "nbconvert_exporter": "python",
            "file_extension": ".py"
        }
    },
    "nbformat": 4,
    "nbformat_minor": 1
}